{
 "cells": [
  {
   "cell_type": "code",
   "execution_count": 16,
   "metadata": {},
   "outputs": [
    {
     "data": {
      "text/plain": [
       "10"
      ]
     },
     "execution_count": 16,
     "metadata": {},
     "output_type": "execute_result"
    }
   ],
   "source": [
    "import re\n",
    "5+5"
   ]
  },
  {
   "cell_type": "code",
   "execution_count": 17,
   "metadata": {},
   "outputs": [
    {
     "data": {
      "text/plain": [
       "<_sre.SRE_Match object; span=(16, 163), match='src=\"https://cdn7.bigcommerce.com/s-3yvzqa/stenci>"
      ]
     },
     "execution_count": 17,
     "metadata": {},
     "output_type": "execute_result"
    }
   ],
   "source": [
    "re.search('(src=)\"([^\"]+)\"',lines)"
   ]
  },
  {
   "cell_type": "code",
   "execution_count": 19,
   "metadata": {},
   "outputs": [],
   "source": [
    "t =[]\n",
    "with open('index.html','r') as f:\n",
    "    for lines in f:\n",
    "        b = re.search('(src=)\"([^\"]+)\"',lines)\n",
    "        if b != None:\n",
    "            t.append(b[2])\n",
    "            "
   ]
  },
  {
   "cell_type": "code",
   "execution_count": 23,
   "metadata": {},
   "outputs": [
    {
     "data": {
      "text/plain": [
       "['https://www.calpaclab.com/product_images/uploaded_images/facebook-timeline-sj-water-concentration.jpg',\n",
       " 'https://www.calpaclab.com/product_images/uploaded_images/facebook-timeline-sj-brighter.jpg',\n",
       " 'https://www.calpaclab.com/product_images/uploaded_images/facebook-timeline-sj-nickel-neon.jpg',\n",
       " 'https://www.calpaclab.com/product_images/uploaded_images/facebook-timeline-sj-time.jpg',\n",
       " 'https://www.calpaclab.com/product_images/uploaded_images/facebook-timeline-sj-tron.jpg',\n",
       " 'https://www.calpaclab.com/product_images/uploaded_images/facebook-timeline-sj-lead.jpg',\n",
       " 'https://www.calpaclab.com/product_images/uploaded_images/facebook-timeline-small-element-of-confusion.jpg',\n",
       " 'https://www.calpaclab.com/product_images/uploaded_images/facebook-timeline-sj-solutions2.jpg']"
      ]
     },
     "execution_count": 23,
     "metadata": {},
     "output_type": "execute_result"
    }
   ],
   "source": [
    "t[7:15]"
   ]
  },
  {
   "cell_type": "code",
   "execution_count": 26,
   "metadata": {},
   "outputs": [
    {
     "data": {
      "text/plain": [
       "['https://cdn7.bigcommerce.com/s-3yvzqa/images/stencil/300x300/products/17461/31518/BA-420710000__51714.1527968544.jpg?c=2',\n",
       " 'https://cdn7.bigcommerce.com/s-3yvzqa/images/stencil/300x300/products/17460/31506/BA-615020100__01338.1527968227.jpg?c=2',\n",
       " 'https://cdn7.bigcommerce.com/s-3yvzqa/images/stencil/300x300/products/17459/31501/BA-420710002__53116.1527967703.jpg?c=2',\n",
       " 'https://cdn7.bigcommerce.com/s-3yvzqa/images/stencil/300x300/products/17458/31489/BA-615065100__50466.1527966473.jpg?c=2',\n",
       " 'https://cdn7.bigcommerce.com/s-3yvzqa/images/stencil/300x300/products/17457/31487/BA-420700000__41793.1527966349.jpg?c=2',\n",
       " 'https://www.shopperapproved.com/widgets/widgetfooter-darknarrow.png',\n",
       " 'https://cdn7.bigcommerce.com/s-3yvzqa/stencil/51238b60-147a-0136-888d-525400dfdca6/e/91d8ed80-3053-0136-f07f-525400970412/img/greenbiz.jpg',\n",
       " 'https://cdn7.bigcommerce.com/s-3yvzqa/images/stencil/300x300/products/7559/8636/QP-CAP-00107-EA-2__30236.1398309181.jpg?c=2',\n",
       " 'https://cdn7.bigcommerce.com/s-3yvzqa/images/stencil/300x300/products/7683/8760/QP-CAP-00449-EA-2__16474.1398309534.jpg?c=2',\n",
       " 'https://cdn7.bigcommerce.com/s-3yvzqa/images/stencil/300x300/products/7583/8660/QP-CAP-00185-EA-2__64759.1398309247.jpg?c=2',\n",
       " 'https://cdn7.bigcommerce.com/s-3yvzqa/images/stencil/300x300/products/7596/8673/QP-CAP-00224-EA-2__29680.1398309284.jpg?c=2',\n",
       " 'https://cdn7.bigcommerce.com/s-3yvzqa/images/stencil/300x300/products/7646/8723/QP-CAP-00359-EA-2__66538.1398309427.jpg?c=2',\n",
       " 'https://cdn7.bigcommerce.com/s-3yvzqa/images/stencil/300x300/products/7673/8750/QP-CAP-00437-EA-2__68097.1398309502.jpg?c=2',\n",
       " 'https://cdn7.bigcommerce.com/s-3yvzqa/stencil/51238b60-147a-0136-888d-525400dfdca6/e/91d8ed80-3053-0136-f07f-525400970412/js/bundle.js',\n",
       " 'https://cdn7.bigcommerce.com/r-fe6e4c26a1e51bd7a21ea1492bcf3f82ffbd9e4b/javascript/visitor_stencil.js?11923',\n",
       " '//www.googleadservices.com/pagead/conversion.js',\n",
       " '//googleads.g.doubleclick.net/pagead/viewthroughconversion/1071960407/?value=0&amp;guid=ON&amp;script=0',\n",
       " '//image.providesupport.com/image/1maux30oj8ikf13ycfr2icwr66.gif',\n",
       " '//d37phj1nwbd0r1.cloudfront.net/assets/crtv.min.js#77550c4ce4be9642bf267ff06fd92160']"
      ]
     },
     "execution_count": 26,
     "metadata": {},
     "output_type": "execute_result"
    }
   ],
   "source": [
    "t[-20:-1]"
   ]
  },
  {
   "cell_type": "code",
   "execution_count": 27,
   "metadata": {},
   "outputs": [
    {
     "data": {
      "text/plain": [
       "240"
      ]
     },
     "execution_count": 27,
     "metadata": {},
     "output_type": "execute_result"
    }
   ],
   "source": [
    "len(t)"
   ]
  },
  {
   "cell_type": "code",
   "execution_count": 36,
   "metadata": {},
   "outputs": [
    {
     "data": {
      "text/plain": [
       "['https://www.calpaclab.com/content/v/images/custom/science-joker-cat2.jpg',\n",
       " 'https://www.calpaclab.com/content/v/images/custom/copycat.jpg',\n",
       " 'https://www.calpaclab.com/content/v/images/custom/sciencejokes/bond.jpg',\n",
       " 'https://www.calpaclab.com/content/v/images/custom/lego-atom.jpg',\n",
       " 'https://www.calpaclab.com/content/v/images/custom/coolb4.png',\n",
       " 'https://www.calpaclab.com/content/v/images/custom/joke1.jpg',\n",
       " 'http://24.media.tumblr.com/tumblr_mc3gv5C9gC1qf3dvio1_500.jpg',\n",
       " 'https://www.calpaclab.com/content/v/images/custom/recess.gif',\n",
       " 'https://www.calpaclab.com/content/v/images/custom/Ah-TheElementofSurprise.jpg',\n",
       " 'https://www.calpaclab.com/content/v/images/custom/BabyScientificMethod.jpg',\n",
       " 'https://www.calpaclab.com/content/v/images/custom/Amazing-Plastic-Spoon.jpg',\n",
       " 'https://www.calpaclab.com/product_images/uploaded_images/if-you-like-water.gif',\n",
       " 'https://www.calpaclab.com/content/v/images/custom/cat-math.jpg',\n",
       " 'https://www.calpaclab.com/content/v/images/custom/sciencejokes/alkynes.jpg',\n",
       " 'https://www.calpaclab.com/content/v/images/custom/periodic-table-of-wine.jpg',\n",
       " 'https://www.calpaclab.com/content/v/images/custom/science-joker-cat.jpg',\n",
       " 'https://www.calpaclab.com/content/v/images/custom/sciencejokes/root-beer.jpg',\n",
       " 'https://www.calpaclab.com/product_images/uploaded_images/bubblebeaker.jpg',\n",
       " 'https://www.calpaclab.com/product_images/uploaded_images/chemistryjokes.png']"
      ]
     },
     "execution_count": 36,
     "metadata": {},
     "output_type": "execute_result"
    }
   ],
   "source": [
    "t[200:219]"
   ]
  },
  {
   "cell_type": "code",
   "execution_count": 39,
   "metadata": {},
   "outputs": [
    {
     "ename": "TypeError",
     "evalue": "must be str, not list",
     "output_type": "error",
     "traceback": [
      "\u001b[0;31m----------------------------------------------\u001b[0m",
      "\u001b[0;31mTypeError\u001b[0m    Traceback (most recent call last)",
      "\u001b[0;32m<ipython-input-39-03b535883df0>\u001b[0m in \u001b[0;36m<module>\u001b[0;34m()\u001b[0m\n\u001b[1;32m      1\u001b[0m \u001b[0mt2\u001b[0m \u001b[0;34m=\u001b[0m \u001b[0mt\u001b[0m\u001b[0;34m[\u001b[0m\u001b[0;36m7\u001b[0m\u001b[0;34m:\u001b[0m\u001b[0;36m219\u001b[0m\u001b[0;34m]\u001b[0m\u001b[0;34m\u001b[0m\u001b[0m\n\u001b[1;32m      2\u001b[0m \u001b[0;32mimport\u001b[0m \u001b[0mos\u001b[0m\u001b[0;34m\u001b[0m\u001b[0m\n\u001b[0;32m----> 3\u001b[0;31m \u001b[0mos\u001b[0m\u001b[0;34m.\u001b[0m\u001b[0msystem\u001b[0m\u001b[0;34m(\u001b[0m\u001b[0;34m'wget '\u001b[0m\u001b[0;34m+\u001b[0m\u001b[0mt2\u001b[0m\u001b[0;34m)\u001b[0m\u001b[0;34m\u001b[0m\u001b[0m\n\u001b[0m",
      "\u001b[0;31mTypeError\u001b[0m: must be str, not list"
     ]
    }
   ],
   "source": [
    "t2 = t[7:219]\n",
    "import os\n"
   ]
  },
  {
   "cell_type": "code",
   "execution_count": 40,
   "metadata": {},
   "outputs": [],
   "source": [
    "for i in t2:\n",
    "    os.system('wget '+i)"
   ]
  },
  {
   "cell_type": "code",
   "execution_count": 41,
   "metadata": {},
   "outputs": [
    {
     "name": "stdout",
     "output_type": "stream",
     "text": [
      "\u001b[0m\u001b[01;35m11873628-1341699759192807-901194215253718413-n.jpg\u001b[0m\n",
      "\u001b[01;35m11c926d0a77f6c08ece079ac0fbcb9f9.jpg\u001b[0m\n",
      "\u001b[01;35m7ad26a701c99d3857bb13eb41d0748ab.jpg\u001b[0m\n",
      "\u001b[01;35ma429b90fe1414f1f5a2160198d25835f.jpg\u001b[0m\n",
      "\u001b[01;35mabacuscrop.jpg\u001b[0m\n",
      "\u001b[01;35mactualpiechart.jpg\u001b[0m\n",
      "\u001b[01;35macute-angle.jpg\u001b[0m\n",
      "\u001b[01;35mAh-TheElementofSurprise.jpg\u001b[0m\n",
      "\u001b[01;35malkynes.jpg\u001b[0m\n",
      "\u001b[01;35mall-in-vein.jpg\u001b[0m\n",
      "\u001b[01;35mallyouneedislove.jpg\u001b[0m\n",
      "\u001b[01;35mAmazing-Plastic-Spoon.jpg\u001b[0m\n",
      "\u001b[01;35manti-pro-biotics.jpg\u001b[0m\n",
      "\u001b[01;35mBabyScientificMethod.jpg\u001b[0m\n",
      "\u001b[01;35mbatmanperiodictablethemesong.jpg\u001b[0m\n",
      "\u001b[01;35mbigfan.jpg\u001b[0m\n",
      "\u001b[01;35mblood-color.png\u001b[0m\n",
      "\u001b[01;35mbond.jpg\u001b[0m\n",
      "\u001b[01;35mbrain-joke.png\u001b[0m\n",
      "\u001b[01;35mbrain-working.jpg\u001b[0m\n",
      "\u001b[01;35mbubblebeaker.jpg\u001b[0m\n",
      "\u001b[01;35mbunsen-burner.jpg\u001b[0m\n",
      "\u001b[01;35mcation-cat-ion.jpg\u001b[0m\n",
      "\u001b[01;35mcat-math.jpg\u001b[0m\n",
      "\u001b[01;35mcell-provider.jpg\u001b[0m\n",
      "\u001b[01;35mcesium-iodine-joke-2.jpg\u001b[0m\n",
      "\u001b[01;35mcharles-darwin.jpg\u001b[0m\n",
      "\u001b[01;35mchemistryjokes.png\u001b[0m\n",
      "\u001b[01;35mchocolate.jpg\u001b[0m\n",
      "\u001b[01;35mcomics-weather.jpg\u001b[0m\n",
      "\u001b[01;35mcomplex-carbs.jpg\u001b[0m\n",
      "\u001b[01;35mcoolb4.png\u001b[0m\n",
      "\u001b[01;35mcopycat.jpg\u001b[0m\n",
      "\u001b[01;35mcow-joke.jpg\u001b[0m\n",
      "\u001b[01;35mcreative-pipetting.jpg\u001b[0m\n",
      "\u001b[01;35mcylinder.jpg\u001b[0m\n",
      "\u001b[01;35mdiamond-carbon.gif\u001b[0m\n",
      "\u001b[01;35mdonate-blood.jpg\u001b[0m\n",
      "\u001b[01;35mdont-walk-away.jpg\u001b[0m\n",
      "\u001b[01;35mearth-day-joke.jpg\u001b[0m\n",
      "\u001b[01;35mearth-joke.jpg\u001b[0m\n",
      "\u001b[01;35meatsurvive.gif\u001b[0m\n",
      "\u001b[01;35meinstein-about-time.jpg\u001b[0m\n",
      "\u001b[01;35mends-together.jpg\u001b[0m\n",
      "\u001b[01;35mevolution.jpg\u001b[0m\n",
      "\u001b[01;35mfacebook-science-trivia-frozen.jpg\u001b[0m\n",
      "\u001b[01;35mfacebook-timeline-s-foiled.jpg\u001b[0m\n",
      "\u001b[01;35mfacebook-timeline-sj-2na.jpg\u001b[0m\n",
      "\u001b[01;35mfacebook-timeline-sj-alkyne.jpg\u001b[0m\n",
      "\u001b[01;35mfacebook-timeline-sj-argon.jpg\u001b[0m\n",
      "\u001b[01;35mfacebook-timeline-sj-asalt.jpg\u001b[0m\n",
      "\u001b[01;35mfacebook-timeline-sj-astronaut.jpg\u001b[0m\n",
      "\u001b[01;35mfacebook-timeline-sj-atom.jpg\u001b[0m\n",
      "\u001b[01;35mfacebook-timeline-sj-bad-light.jpg\u001b[0m\n",
      "\u001b[01;35mfacebook-timeline-sj-balloon.jpg\u001b[0m\n",
      "\u001b[01;35mfacebook-timeline-sj-banana.jpg\u001b[0m\n",
      "\u001b[01;35mfacebook-timeline-sj-become-a-chemist.jpg\u001b[0m\n",
      "\u001b[01;35mfacebook-timeline-sj-bee.jpg\u001b[0m\n",
      "\u001b[01;35mfacebook-timeline-sj-boiling-water.jpg\u001b[0m\n",
      "\u001b[01;35mfacebook-timeline-sj-brighter.jpg\u001b[0m\n",
      "\u001b[01;35mfacebook-timeline-sj-cellphone.jpg\u001b[0m\n",
      "\u001b[01;35mfacebook-timeline-sj-chemist-water1.jpg\u001b[0m\n",
      "\u001b[01;35mfacebook-timeline-sj-chem-pharm.jpg\u001b[0m\n",
      "\u001b[01;35mfacebook-timeline-sj-element.jpg\u001b[0m\n",
      "\u001b[01;35mfacebook-timeline-sj-ferrous-wheel.jpg\u001b[0m\n",
      "\u001b[01;35mfacebook-timeline-sj-frankeinstein.jpg\u001b[0m\n",
      "\u001b[01;35mfacebook-timeline-sj-green-denier.jpg\u001b[0m\n",
      "\u001b[01;35mfacebook-timeline-sj-h20.jpg\u001b[0m\n",
      "\u001b[01;35mfacebook-timeline-sj-heavy-metal.jpg\u001b[0m\n",
      "\u001b[01;35mfacebook-timeline-sj-hug.jpg\u001b[0m\n",
      "\u001b[01;35mfacebook-timeline-sj-i-over-8.jpg\u001b[0m\n",
      "\u001b[01;35mfacebook-timeline-sj-joule-thief.jpg\u001b[0m\n",
      "\u001b[01;35mfacebook-timeline-sj-kneedyou.jpg\u001b[0m\n",
      "\u001b[01;35mfacebook-timeline-sj-knife.jpg\u001b[0m\n",
      "\u001b[01;35mfacebook-timeline-sj-laughing-gas.jpg\u001b[0m\n",
      "\u001b[01;35mfacebook-timeline-sj-lead.jpg\u001b[0m\n",
      "\u001b[01;35mfacebook-timeline-sj-microscope.jpg\u001b[0m\n",
      "\u001b[01;35mfacebook-timeline-sj-might-ochondria.jpg\u001b[0m\n",
      "\u001b[01;35mfacebook-timeline-sj-moon-hair.jpg\u001b[0m\n",
      "\u001b[01;35mfacebook-timeline-sj-moon-orbit1.jpg\u001b[0m\n",
      "\u001b[01;35mfacebook-timeline-sj-moon-restaurant.jpg\u001b[0m\n",
      "\u001b[01;35mfacebook-timeline-sj-nickel-neon.jpg\u001b[0m\n",
      "\u001b[01;35mfacebook-timeline-sj-octopi.jpg\u001b[0m\n",
      "\u001b[01;35mfacebook-timeline-sj-orchid.jpg\u001b[0m\n",
      "\u001b[01;35mfacebook-timeline-sj-over-reacting.jpg\u001b[0m\n",
      "\u001b[01;35mfacebook-timeline-sj-party.jpg\u001b[0m\n",
      "\u001b[01;35mfacebook-timeline-sj-periodically.jpg\u001b[0m\n",
      "\u001b[01;35mfacebook-timeline-sj-photo.jpg\u001b[0m\n",
      "\u001b[01;35mfacebook-timeline-sj-physics.jpg\u001b[0m\n",
      "\u001b[01;35mfacebook-timeline-sj-plumber.jpg\u001b[0m\n",
      "\u001b[01;35mfacebook-timeline-sj-pumpkin.jpg\u001b[0m\n",
      "\u001b[01;35mfacebook-timeline-sj-python.jpg\u001b[0m\n",
      "\u001b[01;35mfacebook-timeline-sj-raptor.jpg\u001b[0m\n",
      "\u001b[01;35mfacebook-timeline-sj-renewable.jpg\u001b[0m\n",
      "\u001b[01;35mfacebook-timeline-sj-sherlock-ohms.jpg\u001b[0m\n",
      "\u001b[01;35mfacebook-timeline-sj-shyness-gene.jpg\u001b[0m\n",
      "\u001b[01;35mfacebook-timeline-sj-solutions2.jpg\u001b[0m\n",
      "\u001b[01;35mfacebook-timeline-sj-space-party.jpg\u001b[0m\n",
      "\u001b[01;35mfacebook-timeline-sj-starpoem.jpg\u001b[0m\n",
      "\u001b[01;35mfacebook-timeline-sj-stay-positive.jpg\u001b[0m\n",
      "\u001b[01;35mfacebook-timeline-sj-string-theory.jpg\u001b[0m\n",
      "\u001b[01;35mfacebook-timeline-sj-sun.png\u001b[0m\n",
      "\u001b[01;35mfacebook-timeline-sj-tennis.jpg\u001b[0m\n",
      "\u001b[01;35mfacebook-timeline-sj-time.jpg\u001b[0m\n",
      "\u001b[01;35mfacebook-timeline-sj-tron.jpg\u001b[0m\n",
      "\u001b[01;35mfacebook-timeline-sj-water-concentration.jpg\u001b[0m\n",
      "\u001b[01;35mfacebook-timeline-sj-xmas-science.jpg\u001b[0m\n",
      "\u001b[01;35mfacebook-timeline-small-element-of-confusion.jpg\u001b[0m\n",
      "\u001b[01;35mfacebook-timeline-tree-light-joke.png\u001b[0m\n",
      "\u001b[01;35mfissionchips.jpg\u001b[0m\n",
      "\u001b[01;35mfission.jpg\u001b[0m\n",
      "\u001b[01;35mfunny-lol-hippos-critical-fat-puns-punny-humor-photo-pic.jpg\u001b[0m\n",
      "\u001b[01;35mgalileo.jpg\u001b[0m\n",
      "\u001b[01;35mgeology.jpg\u001b[0m\n",
      "\u001b[01;35mgeometirc-cats.jpg\u001b[0m\n",
      "\u001b[01;35mgravity1.jpg\u001b[0m\n",
      "\u001b[01;35mgreaterlessthanfightweb.jpg\u001b[0m\n",
      "\u001b[01;35mgregor-mendel.jpg\u001b[0m\n",
      "\u001b[01;35mgrumpy-no.jpg\u001b[0m\n",
      "\u001b[01;35mguac-joke3.jpg\u001b[0m\n",
      "\u001b[01;35mhalloween-frankeinsteinweb.jpg\u001b[0m\n",
      "\u001b[01;35mhelium-joke.jpg\u001b[0m\n",
      "\u001b[01;35mhelium.jpg\u001b[0m\n",
      "\u001b[01;35mheterozygoats.jpg\u001b[0m\n",
      "\u001b[01;35mhipster-science.jpg\u001b[0m\n",
      "\u001b[01;35mhobbyte.jpg\u001b[0m\n",
      "\u001b[01;35mhorse-skeleton.jpg\u001b[0m\n",
      "\u001b[01;35mhow-scientists-spend-time.jpg\u001b[0m\n",
      "\u001b[01;35mhydrophobe.png\u001b[0m\n",
      "\u001b[01;35mif-you-like-water.gif\u001b[0m\n",
      "index.html\n",
      "\u001b[01;35mion.jpg\u001b[0m\n",
      "\u001b[01;35mjoke1.jpg\u001b[0m\n",
      "\u001b[01;35mjoke-baseball.jpg\u001b[0m\n",
      "\u001b[01;35mjoke-email-3.jpg\u001b[0m\n",
      "\u001b[01;35mjugular-vein.jpg\u001b[0m\n",
      "\u001b[01;35mklepto.jpg\u001b[0m\n",
      "\u001b[01;35mlab-felony.jpg\u001b[0m\n",
      "\u001b[01;35mlabparty.jpg\u001b[0m\n",
      "\u001b[01;35mlab-tech.jpg\u001b[0m\n",
      "\u001b[01;35mLadyGagaPeriodicTable.jpg\u001b[0m\n",
      "\u001b[01;35mlaser.jpg\u001b[0m\n",
      "\u001b[01;35mlego-atom.jpg\u001b[0m\n",
      "\u001b[01;35mmadesimple.jpg\u001b[0m\n",
      "\u001b[01;35mmatter.jpg\u001b[0m\n",
      "\u001b[01;35mmay-the-force.jpg\u001b[0m\n",
      "\u001b[01;35mmeme-joke.jpg\u001b[0m\n",
      "\u001b[01;35mmercedes-benzene.jpg\u001b[0m\n",
      "\u001b[01;35mmicrobes.jpg\u001b[0m\n",
      "\u001b[01;35mmitosis-joke.jpg\u001b[0m\n",
      "\u001b[01;35mmold-joke.jpg\u001b[0m\n",
      "\u001b[01;35mmolecool.jpg\u001b[0m\n",
      "\u001b[01;35mmole.png\u001b[0m\n",
      "\u001b[01;35mmouse-ear-joke.jpg\u001b[0m\n",
      "\u001b[01;35mmovie.jpg\u001b[0m\n",
      "\u001b[01;35mmushroom-fungi.jpg\u001b[0m\n",
      "\u001b[01;35mnerd-joke.jpg\u001b[0m\n",
      "\u001b[01;35mno-jeans.jpg\u001b[0m\n",
      "\u001b[01;35mOK.jpg\u001b[0m\n",
      "\u001b[01;35momg.jpg\u001b[0m\n",
      "\u001b[01;35moverreacting.jpg\u001b[0m\n",
      "\u001b[01;35mparanormal-distribution.jpg\u001b[0m\n",
      "\u001b[01;35mpavlov-dog.jpg\u001b[0m\n",
      "\u001b[01;35mperiodic-table-of-wine.jpg\u001b[0m\n",
      "\u001b[01;35mper-table-elephants.jpg\u001b[0m\n",
      "\u001b[01;35mphoton.jpg\u001b[0m\n",
      "\u001b[01;35mpiratflag.png\u001b[0m\n",
      "\u001b[01;35mpre-historic-google.jpg\u001b[0m\n",
      "\u001b[01;35mpteradactyl.jpg\u001b[0m\n",
      "\u001b[01;35mpuppet.jpg\u001b[0m\n",
      "\u001b[01;35mrecess.gif\u001b[0m\n",
      "\u001b[01;35mrecreationaldrugs.jpg\u001b[0m\n",
      "\u001b[01;35mretrovirus.jpg\u001b[0m\n",
      "\u001b[01;35mroot-beer.jpg\u001b[0m\n",
      "\u001b[01;35msarchasm.jpg\u001b[0m\n",
      "\u001b[01;35mscience-cat-jokes-Lside.jpg\u001b[0m\n",
      "\u001b[01;35mscience-joke-control.jpg\u001b[0m\n",
      "\u001b[01;35mscience-joker-cat2.jpg\u001b[0m\n",
      "\u001b[01;35mscience-joker-cat.jpg\u001b[0m\n",
      "\u001b[01;35mscience-joke-theory-and-practice.jpg\u001b[0m\n",
      "\u001b[01;35mscience-optimism-crop.jpg\u001b[0m\n",
      "\u001b[01;35mscientists.jpg\u001b[0m\n",
      "\u001b[01;35mserotonin.jpg\u001b[0m\n",
      "\u001b[01;35msnakesonaplane.jpg\u001b[0m\n",
      "\u001b[01;35msodium.jpg\u001b[0m\n",
      "\u001b[01;35mspacepartyplanet.jpg\u001b[0m\n",
      "\u001b[01;35mstatisticallysignificant.jpg\u001b[0m\n",
      "\u001b[01;35mstats.jpg\u001b[0m\n",
      "\u001b[01;35mstool-sample.jpg\u001b[0m\n",
      "\u001b[01;35msugar-cubed.jpg\u001b[0m\n",
      "sugar-cubed.jpg.1\n",
      "\u001b[01;35msulfur.jpg\u001b[0m\n",
      "\u001b[01;35msupport-bacteria-as-a-culture.jpg\u001b[0m\n",
      "\u001b[01;35mswimfan-email.jpg\u001b[0m\n",
      "\u001b[01;35mtechtonic-plate-fault.jpg\u001b[0m\n",
      "\u001b[01;35mthermister.jpg\u001b[0m\n",
      "\u001b[01;35mthings-i-learned-in-organic-chemistry.jpg\u001b[0m\n",
      "\u001b[01;35mthink-like-a-proton.jpg\u001b[0m\n",
      "\u001b[01;35mtoonupdate.jpg\u001b[0m\n",
      "\u001b[01;35mtoothpaste.jpg\u001b[0m\n",
      "\u001b[01;35mtraderjoesguac.jpg\u001b[0m\n",
      "\u001b[01;35mtree-joke.png\u001b[0m\n",
      "\u001b[01;35mtumblr_mc3gv5C9gC1qf3dvio1_500.jpg\u001b[0m\n",
      "\u001b[01;35mum.jpg\u001b[0m\n",
      "\u001b[01;35municorns.jpg\u001b[0m\n",
      "Untitled.ipynb\n",
      "\u001b[01;35musb-funny.jpg\u001b[0m\n",
      "\u001b[01;35museful-concave-cats.jpg\u001b[0m\n",
      "\u001b[01;35mwater-ice.jpg\u001b[0m\n",
      "\u001b[01;35mwatt-is-love.jpg\u001b[0m\n",
      "\u001b[01;35mwelcome-to-ochem.jpg\u001b[0m\n",
      "\u001b[01;35mwet.jpg\u001b[0m\n",
      "\u001b[01;35mwhat-are-you-waving-at-run.jpg\u001b[0m\n",
      "\u001b[01;35myourx.jpg\u001b[0m\n"
     ]
    }
   ],
   "source": [
    "ls"
   ]
  },
  {
   "cell_type": "code",
   "execution_count": null,
   "metadata": {},
   "outputs": [],
   "source": []
  }
 ],
 "metadata": {
  "kernelspec": {
   "display_name": "Python [default]",
   "language": "python",
   "name": "python3"
  },
  "language_info": {
   "codemirror_mode": {
    "name": "ipython",
    "version": 3
   },
   "file_extension": ".py",
   "mimetype": "text/x-python",
   "name": "python",
   "nbconvert_exporter": "python",
   "pygments_lexer": "ipython3",
   "version": "3.6.1"
  }
 },
 "nbformat": 4,
 "nbformat_minor": 2
}
